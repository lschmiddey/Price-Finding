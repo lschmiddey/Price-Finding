{
  "nbformat": 4,
  "nbformat_minor": 0,
  "metadata": {
    "colab": {
      "name": "dynamicpricing_avocados.ipynb",
      "provenance": [],
      "toc_visible": true,
      "authorship_tag": "ABX9TyPbjfMRjqHErJzsxAS6nIrp",
      "include_colab_link": true
    },
    "kernelspec": {
      "name": "python3",
      "display_name": "Python 3"
    }
  },
  "cells": [
    {
      "cell_type": "markdown",
      "metadata": {
        "id": "view-in-github",
        "colab_type": "text"
      },
      "source": [
        "<a href=\"https://colab.research.google.com/github/lschmiddey/Price-Finding/blob/master/dynamicpricing_avocados.ipynb\" target=\"_parent\"><img src=\"https://colab.research.google.com/assets/colab-badge.svg\" alt=\"Open In Colab\"/></a>"
      ]
    },
    {
      "cell_type": "markdown",
      "metadata": {
        "id": "xQD2cteYch2w",
        "colab_type": "text"
      },
      "source": [
        "This notebook is a blue print how one could estimate different demand functions from data and then use the succeeding data to update information on how to set the optimal price."
      ]
    },
    {
      "cell_type": "markdown",
      "metadata": {
        "id": "7gUkG98UdI92",
        "colab_type": "text"
      },
      "source": [
        "The data is taken from: https://www.kaggle.com/neuromusic/avocado-prices"
      ]
    },
    {
      "cell_type": "code",
      "metadata": {
        "id": "rQtpadJ3oEXp",
        "colab_type": "code",
        "colab": {}
      },
      "source": [
        "import os\n",
        "import random\n",
        "import pandas as pd\n",
        "import numpy as np\n",
        "from pylab import rcParams\n",
        "rcParams['figure.figsize'] = 12, 8\n",
        "import matplotlib.pyplot as plt\n",
        "import seaborn as sns\n",
        "from scipy.optimize import leastsq\n",
        "from scipy.optimize import minimize, Bounds\n",
        "from scipy.optimize import minimize_scalar\n",
        "from sklearn import preprocessing\n",
        "data = pd.read_csv('sample_data/avocado.csv')"
      ],
      "execution_count": 79,
      "outputs": []
    },
    {
      "cell_type": "code",
      "metadata": {
        "id": "7cxInDY7wuQl",
        "colab_type": "code",
        "colab": {}
      },
      "source": [
        "# Constants\n",
        "TEST_PERC = 0.1\n",
        "SAMPLE_PERC = 0.2"
      ],
      "execution_count": 8,
      "outputs": []
    },
    {
      "cell_type": "code",
      "metadata": {
        "id": "JPMh3oKLsBk-",
        "colab_type": "code",
        "colab": {
          "base_uri": "https://localhost:8080/",
          "height": 149
        },
        "outputId": "f869cf5d-dcbd-47cf-98ee-77b4ca6b443b"
      },
      "source": [
        "data.head(2)"
      ],
      "execution_count": 165,
      "outputs": [
        {
          "output_type": "execute_result",
          "data": {
            "text/html": [
              "<div>\n",
              "<style scoped>\n",
              "    .dataframe tbody tr th:only-of-type {\n",
              "        vertical-align: middle;\n",
              "    }\n",
              "\n",
              "    .dataframe tbody tr th {\n",
              "        vertical-align: top;\n",
              "    }\n",
              "\n",
              "    .dataframe thead th {\n",
              "        text-align: right;\n",
              "    }\n",
              "</style>\n",
              "<table border=\"1\" class=\"dataframe\">\n",
              "  <thead>\n",
              "    <tr style=\"text-align: right;\">\n",
              "      <th></th>\n",
              "      <th>Unnamed: 0</th>\n",
              "      <th>Date</th>\n",
              "      <th>AveragePrice</th>\n",
              "      <th>Total Volume</th>\n",
              "      <th>4046</th>\n",
              "      <th>4225</th>\n",
              "      <th>4770</th>\n",
              "      <th>Total Bags</th>\n",
              "      <th>Small Bags</th>\n",
              "      <th>Large Bags</th>\n",
              "      <th>XLarge Bags</th>\n",
              "      <th>type</th>\n",
              "      <th>year</th>\n",
              "      <th>region</th>\n",
              "    </tr>\n",
              "  </thead>\n",
              "  <tbody>\n",
              "    <tr>\n",
              "      <th>0</th>\n",
              "      <td>0</td>\n",
              "      <td>2015-12-27</td>\n",
              "      <td>1.33</td>\n",
              "      <td>64236.62</td>\n",
              "      <td>1036.74</td>\n",
              "      <td>54454.85</td>\n",
              "      <td>48.16</td>\n",
              "      <td>8696.87</td>\n",
              "      <td>8603.62</td>\n",
              "      <td>93.25</td>\n",
              "      <td>0.0</td>\n",
              "      <td>conventional</td>\n",
              "      <td>2015</td>\n",
              "      <td>Albany</td>\n",
              "    </tr>\n",
              "    <tr>\n",
              "      <th>1</th>\n",
              "      <td>1</td>\n",
              "      <td>2015-12-20</td>\n",
              "      <td>1.35</td>\n",
              "      <td>54876.98</td>\n",
              "      <td>674.28</td>\n",
              "      <td>44638.81</td>\n",
              "      <td>58.33</td>\n",
              "      <td>9505.56</td>\n",
              "      <td>9408.07</td>\n",
              "      <td>97.49</td>\n",
              "      <td>0.0</td>\n",
              "      <td>conventional</td>\n",
              "      <td>2015</td>\n",
              "      <td>Albany</td>\n",
              "    </tr>\n",
              "  </tbody>\n",
              "</table>\n",
              "</div>"
            ],
            "text/plain": [
              "   Unnamed: 0        Date  AveragePrice  ...          type  year  region\n",
              "0           0  2015-12-27          1.33  ...  conventional  2015  Albany\n",
              "1           1  2015-12-20          1.35  ...  conventional  2015  Albany\n",
              "\n",
              "[2 rows x 14 columns]"
            ]
          },
          "metadata": {
            "tags": []
          },
          "execution_count": 165
        }
      ]
    },
    {
      "cell_type": "code",
      "metadata": {
        "id": "r7TG-sYGuub1",
        "colab_type": "code",
        "colab": {
          "base_uri": "https://localhost:8080/",
          "height": 256
        },
        "outputId": "bc75ea6c-52b6-4947-c5bd-22f1a59de069"
      },
      "source": [
        "data.region.unique()"
      ],
      "execution_count": 166,
      "outputs": [
        {
          "output_type": "execute_result",
          "data": {
            "text/plain": [
              "array(['Albany', 'Atlanta', 'BaltimoreWashington', 'Boise', 'Boston',\n",
              "       'BuffaloRochester', 'California', 'Charlotte', 'Chicago',\n",
              "       'CincinnatiDayton', 'Columbus', 'DallasFtWorth', 'Denver',\n",
              "       'Detroit', 'GrandRapids', 'GreatLakes', 'HarrisburgScranton',\n",
              "       'HartfordSpringfield', 'Houston', 'Indianapolis', 'Jacksonville',\n",
              "       'LasVegas', 'LosAngeles', 'Louisville', 'MiamiFtLauderdale',\n",
              "       'Midsouth', 'Nashville', 'NewOrleansMobile', 'NewYork',\n",
              "       'Northeast', 'NorthernNewEngland', 'Orlando', 'Philadelphia',\n",
              "       'PhoenixTucson', 'Pittsburgh', 'Plains', 'Portland',\n",
              "       'RaleighGreensboro', 'RichmondNorfolk', 'Roanoke', 'Sacramento',\n",
              "       'SanDiego', 'SanFrancisco', 'Seattle', 'SouthCarolina',\n",
              "       'SouthCentral', 'Southeast', 'Spokane', 'StLouis', 'Syracuse',\n",
              "       'Tampa', 'TotalUS', 'West', 'WestTexNewMexico'], dtype=object)"
            ]
          },
          "metadata": {
            "tags": []
          },
          "execution_count": 166
        }
      ]
    },
    {
      "cell_type": "code",
      "metadata": {
        "id": "P2PlJgIovHQN",
        "colab_type": "code",
        "colab": {}
      },
      "source": [
        "regions = ['California', 'SanDiego', 'SanFrancisco', 'PhoenixTucson']\n",
        "complete_conv_data = data[(data['type'] == 'conventional') & (data['region'].isin(regions))]\n",
        "conv_data = data[(data['type'] == 'conventional') & (data['region'] == 'California')]\n",
        "org_data = data[(data['type'] == 'organic') & (data['region'] == 'California')]"
      ],
      "execution_count": 179,
      "outputs": []
    },
    {
      "cell_type": "markdown",
      "metadata": {
        "id": "aD3lzv8xuTWS",
        "colab_type": "text"
      },
      "source": [
        "To make the volume comparable between the regions we use the min_max scaling grouped by each region."
      ]
    },
    {
      "cell_type": "code",
      "metadata": {
        "id": "mcTAfoaFnD91",
        "colab_type": "code",
        "colab": {
          "base_uri": "https://localhost:8080/",
          "height": 368
        },
        "outputId": "5d9f0527-fba9-45fc-d03b-07d4e5d89e08"
      },
      "source": [
        "complete_conv_data['Normalised_Volume'] = complete_conv_data.groupby('region')['Total Volume'].apply(lambda x: (x-x.min())/(x.max()-x.min()))\n",
        "conv_data['Normalised_Volume'] = conv_data.groupby('region')['Total Volume'].apply(lambda x: (x-x.min())/(x.max()-x.min()))\n",
        "org_data['Normalised_Volume'] = org_data.groupby('region')['Total Volume'].apply(lambda x: (x-x.min())/(x.max()-x.min()))"
      ],
      "execution_count": 180,
      "outputs": [
        {
          "output_type": "stream",
          "text": [
            "/usr/local/lib/python3.6/dist-packages/ipykernel_launcher.py:1: SettingWithCopyWarning: \n",
            "A value is trying to be set on a copy of a slice from a DataFrame.\n",
            "Try using .loc[row_indexer,col_indexer] = value instead\n",
            "\n",
            "See the caveats in the documentation: https://pandas.pydata.org/pandas-docs/stable/user_guide/indexing.html#returning-a-view-versus-a-copy\n",
            "  \"\"\"Entry point for launching an IPython kernel.\n",
            "/usr/local/lib/python3.6/dist-packages/ipykernel_launcher.py:2: SettingWithCopyWarning: \n",
            "A value is trying to be set on a copy of a slice from a DataFrame.\n",
            "Try using .loc[row_indexer,col_indexer] = value instead\n",
            "\n",
            "See the caveats in the documentation: https://pandas.pydata.org/pandas-docs/stable/user_guide/indexing.html#returning-a-view-versus-a-copy\n",
            "  \n",
            "/usr/local/lib/python3.6/dist-packages/ipykernel_launcher.py:3: SettingWithCopyWarning: \n",
            "A value is trying to be set on a copy of a slice from a DataFrame.\n",
            "Try using .loc[row_indexer,col_indexer] = value instead\n",
            "\n",
            "See the caveats in the documentation: https://pandas.pydata.org/pandas-docs/stable/user_guide/indexing.html#returning-a-view-versus-a-copy\n",
            "  This is separate from the ipykernel package so we can avoid doing imports until\n"
          ],
          "name": "stderr"
        }
      ]
    },
    {
      "cell_type": "markdown",
      "metadata": {
        "id": "a4gP2mBBuMeq",
        "colab_type": "text"
      },
      "source": [
        "We want to order by date and take the last 10% of the dataset as testset"
      ]
    },
    {
      "cell_type": "code",
      "metadata": {
        "id": "K_KKTZzisGYN",
        "colab_type": "code",
        "colab": {}
      },
      "source": [
        "len_complete_data_conv = complete_conv_data.shape[0]\n",
        "len_data_conv = conv_data.shape[0]\n",
        "len_data_org = org_data.shape[0]"
      ],
      "execution_count": 181,
      "outputs": []
    },
    {
      "cell_type": "code",
      "metadata": {
        "id": "skS5zvukxFTb",
        "colab_type": "code",
        "colab": {}
      },
      "source": [
        "train_conv_complete = complete_conv_data.sort_values(by='Date').iloc[:-round(len_complete_data_conv*TEST_PERC),:]\n",
        "train_conv = conv_data.sort_values(by='Date').iloc[:-round(len_data_conv*TEST_PERC),:]\n",
        "test_conv_complete = complete_conv_data.sort_values(by='Date').iloc[-round(len_complete_data_conv*TEST_PERC):,:]\n",
        "test_conv = conv_data.sort_values(by='Date').iloc[-round(len_data_conv*TEST_PERC):,:]\n",
        "\n",
        "train_org = org_data.sort_values(by='Date').iloc[:-round(len_data_org*TEST_PERC),:]\n",
        "test_org = org_data.sort_values(by='Date').iloc[-round(len_data_org*TEST_PERC):,:]"
      ],
      "execution_count": 190,
      "outputs": []
    },
    {
      "cell_type": "code",
      "metadata": {
        "id": "vg8oqorzwmmi",
        "colab_type": "code",
        "colab": {
          "base_uri": "https://localhost:8080/",
          "height": 149
        },
        "outputId": "83f5fae5-4e41-431f-ffa3-5f3351170f6f"
      },
      "source": [
        "train_conv_complete.head(2)"
      ],
      "execution_count": 191,
      "outputs": [
        {
          "output_type": "execute_result",
          "data": {
            "text/html": [
              "<div>\n",
              "<style scoped>\n",
              "    .dataframe tbody tr th:only-of-type {\n",
              "        vertical-align: middle;\n",
              "    }\n",
              "\n",
              "    .dataframe tbody tr th {\n",
              "        vertical-align: top;\n",
              "    }\n",
              "\n",
              "    .dataframe thead th {\n",
              "        text-align: right;\n",
              "    }\n",
              "</style>\n",
              "<table border=\"1\" class=\"dataframe\">\n",
              "  <thead>\n",
              "    <tr style=\"text-align: right;\">\n",
              "      <th></th>\n",
              "      <th>Unnamed: 0</th>\n",
              "      <th>Date</th>\n",
              "      <th>AveragePrice</th>\n",
              "      <th>Total Volume</th>\n",
              "      <th>4046</th>\n",
              "      <th>4225</th>\n",
              "      <th>4770</th>\n",
              "      <th>Total Bags</th>\n",
              "      <th>Small Bags</th>\n",
              "      <th>Large Bags</th>\n",
              "      <th>XLarge Bags</th>\n",
              "      <th>type</th>\n",
              "      <th>year</th>\n",
              "      <th>region</th>\n",
              "      <th>Normalised_Volume</th>\n",
              "    </tr>\n",
              "  </thead>\n",
              "  <tbody>\n",
              "    <tr>\n",
              "      <th>2183</th>\n",
              "      <td>51</td>\n",
              "      <td>2015-01-04</td>\n",
              "      <td>0.94</td>\n",
              "      <td>461607.33</td>\n",
              "      <td>244152.26</td>\n",
              "      <td>165299.33</td>\n",
              "      <td>15302.75</td>\n",
              "      <td>36852.99</td>\n",
              "      <td>30884.29</td>\n",
              "      <td>5595.0</td>\n",
              "      <td>373.7</td>\n",
              "      <td>conventional</td>\n",
              "      <td>2015</td>\n",
              "      <td>SanDiego</td>\n",
              "      <td>0.294820</td>\n",
              "    </tr>\n",
              "    <tr>\n",
              "      <th>1767</th>\n",
              "      <td>51</td>\n",
              "      <td>2015-01-04</td>\n",
              "      <td>0.65</td>\n",
              "      <td>1048062.16</td>\n",
              "      <td>770635.37</td>\n",
              "      <td>178418.32</td>\n",
              "      <td>6509.41</td>\n",
              "      <td>92499.06</td>\n",
              "      <td>92499.06</td>\n",
              "      <td>0.0</td>\n",
              "      <td>0.0</td>\n",
              "      <td>conventional</td>\n",
              "      <td>2015</td>\n",
              "      <td>PhoenixTucson</td>\n",
              "      <td>0.259278</td>\n",
              "    </tr>\n",
              "  </tbody>\n",
              "</table>\n",
              "</div>"
            ],
            "text/plain": [
              "      Unnamed: 0        Date  ...         region  Normalised_Volume\n",
              "2183          51  2015-01-04  ...       SanDiego           0.294820\n",
              "1767          51  2015-01-04  ...  PhoenixTucson           0.259278\n",
              "\n",
              "[2 rows x 15 columns]"
            ]
          },
          "metadata": {
            "tags": []
          },
          "execution_count": 191
        }
      ]
    },
    {
      "cell_type": "code",
      "metadata": {
        "id": "n419UZWSujEi",
        "colab_type": "code",
        "colab": {
          "base_uri": "https://localhost:8080/",
          "height": 499
        },
        "outputId": "24be779b-5fcb-4b0c-bf1a-031ba3258631"
      },
      "source": [
        "plt.plot(train_conv_complete.AveragePrice, train_conv_complete['Normalised_Volume'], '.')\n",
        "plt.title(\"price demand hypothesis\")\n",
        "plt.show()"
      ],
      "execution_count": 192,
      "outputs": [
        {
          "output_type": "display_data",
          "data": {
            "image/png": "[encoded data removed]",
            "text/plain": [
              "<Figure size 864x576 with 1 Axes>"
            ]
          },
          "metadata": {
            "tags": [],
            "needs_background": "light"
          }
        }
      ]
    },
    {
      "cell_type": "markdown",
      "metadata": {
        "id": "RCrjY4bHg6Zb",
        "colab_type": "text"
      },
      "source": [
        "Globally define parametric function and how we want to minimize it."
      ]
    },
    {
      "cell_type": "code",
      "metadata": {
        "id": "gs-LOHpZgea-",
        "colab_type": "code",
        "colab": {}
      },
      "source": [
        "  # Standard Form of log-lin function\n",
        "  def func_(params, x):\n",
        "    a, b = params\n",
        "    return np.exp(a + b * x)\n",
        "\n",
        "\n",
        "  # Error function, that is, the difference between the value obtained by fitting curve and the actual value\n",
        "  def error_func(params, x, y):\n",
        "    return func_(params, x) - y"
      ],
      "execution_count": 193,
      "outputs": []
    },
    {
      "cell_type": "code",
      "metadata": {
        "id": "8t1Y2o7Ew61l",
        "colab_type": "code",
        "colab": {}
      },
      "source": [
        "class log_lin_candidates:\n",
        "  def __init__(self, len_data, sample_perc, train_data, no_candidates=5):\n",
        "        self.len_data=len_data\n",
        "        self.sample_perc=sample_perc\n",
        "        self.no_candidates=no_candidates\n",
        "        self.train_data=train_data\n",
        "\n",
        "  def sample_for_candidates(self, no_candidates):\n",
        "    sample_list=[]\n",
        "    for i in range(0,no_candidates):\n",
        "      rnd_seed = random.randint(0,2000) # random_seed\n",
        "      # Data to be fitted\n",
        "      X = self.train_data.AveragePrice.sample(n=round(self.len_data*self.sample_perc), random_state=rnd_seed).values\n",
        "      Y = self.train_data['Normalised_Volume'].sample(n=round(self.len_data*self.sample_perc), random_state=rnd_seed).values\n",
        "      sample_list.append((X,Y))\n",
        "    return sample_list\n",
        "\n",
        "  # Solving parameters\n",
        "  def slovePara(self):\n",
        "\n",
        "    p0 = [10, 10]\n",
        "    para_list=[]\n",
        "\n",
        "    samples_list = self.sample_for_candidates(self.no_candidates)\n",
        "\n",
        "    for i in range(0,self.no_candidates):\n",
        "      X = samples_list[i][0]\n",
        "      Y = samples_list[i][1]\n",
        "      Para = leastsq(error_func, p0, args=(X, Y))\n",
        "      para_list.append(Para[0])\n",
        "    return para_list\n",
        "\n",
        "  # Output the final result\n",
        "  def solution(self):\n",
        "    Para = self.slovePara()\n",
        "    #print( \"a=\",a,\" b=\",b)\n",
        "    #print( \"cost:\" + str(Para[1]))\n",
        "    #print (\"The curve of solution is:\")\n",
        "    #print(f'y=exp{a}+{b} * x')\n",
        "\n",
        "    return Para\n",
        "\n",
        "\n"
      ],
      "execution_count": 194,
      "outputs": []
    },
    {
      "cell_type": "code",
      "metadata": {
        "id": "edDq_eunkleD",
        "colab_type": "code",
        "colab": {}
      },
      "source": [
        "p=log_lin_candidates(len_data=len_data_conv, sample_perc=SAMPLE_PERC, train_data=train_conv_complete)\n",
        "Para = p.solution()"
      ],
      "execution_count": 195,
      "outputs": []
    },
    {
      "cell_type": "code",
      "metadata": {
        "id": "fFJ0wijF5PAP",
        "colab_type": "code",
        "colab": {
          "base_uri": "https://localhost:8080/",
          "height": 374
        },
        "outputId": "be08f358-d11b-4322-88fa-aff8961382df"
      },
      "source": [
        "plt.figure(figsize=(8,6))\n",
        "x = np. linspace (0, 2, 100) # draw 100 continuous points directly from 0 to 2\n",
        "\n",
        "for i in range(0,len(Para)):\n",
        "  a=Para[i][0]\n",
        "  b=Para[i][1]\n",
        "  # Drawing Fitted Lines\n",
        "  y = np.exp(a + b*x) # # function\n",
        "  plt.plot(x,y,color=\"darkblue\",label=f'candidates {i+1}',linewidth=2)\n",
        "plt.legend ()# Draw Legend\n",
        "plt.show()"
      ],
      "execution_count": 196,
      "outputs": [
        {
          "output_type": "display_data",
          "data": {
            "image/png": "[encoded data removed]",
            "text/plain": [
              "<Figure size 576x432 with 1 Axes>"
            ]
          },
          "metadata": {
            "tags": [],
            "needs_background": "light"
          }
        }
      ]
    },
    {
      "cell_type": "markdown",
      "metadata": {
        "id": "JHQx5arrKdKd",
        "colab_type": "text"
      },
      "source": [
        "# Simulation"
      ]
    },
    {
      "cell_type": "markdown",
      "metadata": {
        "id": "5EmC3mFfKgHh",
        "colab_type": "text"
      },
      "source": [
        "We take the price and quantity from the succeding dates to find the optimal price-function and thereby calculate the optimal price."
      ]
    },
    {
      "cell_type": "code",
      "metadata": {
        "id": "u4eIm6IINYDA",
        "colab_type": "code",
        "colab": {
          "base_uri": "https://localhost:8080/",
          "height": 35
        },
        "outputId": "8845c637-f88c-4b24-cd07-9cc637bc76d0"
      },
      "source": [
        "test_conv_complete.shape"
      ],
      "execution_count": 197,
      "outputs": [
        {
          "output_type": "execute_result",
          "data": {
            "text/plain": [
              "(68, 15)"
            ]
          },
          "metadata": {
            "tags": []
          },
          "execution_count": 197
        }
      ]
    },
    {
      "cell_type": "code",
      "metadata": {
        "id": "wrUtHwJdidu5",
        "colab_type": "code",
        "colab": {}
      },
      "source": [
        "class PriceFinding:\n",
        "    def __init__(self, test_data, params, T=17, m=1, min_price=0.5, max_price=2.5):\n",
        "        self.test_data=test_data\n",
        "        self.params=params\n",
        "        self.T=T\n",
        "        self.m=m\n",
        "        self.min_price=min_price\n",
        "        self.max_price=max_price\n",
        "        \n",
        "\n",
        "    def log_linear_function_demand_(self,x,a,b):\n",
        "        return -(x * (np.exp(a + b * x)))\n",
        "    \n",
        "    def calc_demand(self, p):\n",
        "        list_demand=[]\n",
        "        def log_linear_function_demand(x,a,b):\n",
        "            return -(x * (np.exp(a + b * x)))\n",
        "        for i in range(0, len(self.params)):\n",
        "                a=self.params[i][0]\n",
        "                b=self.params[i][1]\n",
        "                temp_demand = -log_linear_function_demand(p,a,b)\n",
        "                list_demand.append(temp_demand)\n",
        "        return list_demand\n",
        "    \n",
        "    def calc_opt_p(self):\n",
        "        list_p_opt=[]\n",
        "        def log_linear_function_demand(x):\n",
        "            return -(x * (np.exp(a + b * x)))\n",
        "        for i in range(0, len(self.params)):\n",
        "                a=self.params[i][0]\n",
        "                b=self.params[i][1]\n",
        "                res = minimize_scalar(log_linear_function_demand, method='bounded', bounds=(self.min_price, self.max_price))\n",
        "                list_p_opt.append(res['x'])\n",
        "        return list_p_opt \n",
        "\n",
        "    \n",
        "    def make_mask(self):\n",
        "        t_mask = np.array(range(0,round(self.T/self.m)))\n",
        "        t_mask = np.repeat(t_mask, self.m)\n",
        "        \n",
        "        return t_mask\n",
        "        \n",
        "    def run_simulation(self):\n",
        "        T = self.T                          # time step is month\n",
        "        m = self.m                            # every 3 days\n",
        "\n",
        "        tau = 0                                 # start time of the current interval\n",
        "\n",
        "        t_mask = self.make_mask()\n",
        "        \n",
        "        hist_d = []\n",
        "        \n",
        "        price_trace_opt=[]\n",
        "        price_trace_real=[]\n",
        "\n",
        "        for t in range(0, T - 1):               # simulation loop\n",
        "            realized_d = self.test_data.iloc[t,-1]\n",
        "\n",
        "            hist_d.append(realized_d)\n",
        "            p = self.test_data.iloc[t,2]\n",
        "            price_trace_real.append(p)\n",
        "            \n",
        "\n",
        "\n",
        "            if( t_mask[t] != t_mask[t + 1] ):   # end of the interval\n",
        "                interval_mean_d = np.mean( hist_d[tau : t + 1] )\n",
        "\n",
        "                min_dist = float(\"inf\")\n",
        "                dist_hypothesis=[]\n",
        "                index_price_hypothesis=[]\n",
        "\n",
        "                demand_pred_by_func = self.calc_demand(p)\n",
        "                for demand in demand_pred_by_func:\n",
        "                    dist = abs(interval_mean_d - demand)\n",
        "                    dist_hypothesis.append(dist)\n",
        "                idx_price = np.argmin(dist_hypothesis)\n",
        "\n",
        "                \n",
        "                p_opt = self.calc_opt_p()[idx_price]             # set price for the next interval\n",
        "                price_trace_opt.append(p_opt)\n",
        "                tau = t + 1  \n",
        "                \n",
        "        return price_trace_real, price_trace_opt\n",
        "    \n",
        "    def make_plt(self, real_price=True):\n",
        "        \n",
        "        price_trace_real, price_trace_opt = self.run_simulation()\n",
        "        if real_price:\n",
        "          y = np.asarray(price_trace_real)\n",
        "        else:\n",
        "          y = np.asarray(price_trace_opt)\n",
        "\n",
        "        x = range(0,len(y))\n",
        "        \n",
        "        plt.figure(figsize=(12,8)) # In this example, all the plots will be in one figure.    \n",
        "        for i in range(len(self.calc_opt_p())):\n",
        "            plt.plot(x, y, '-', label='Estimate')\n",
        "        plt.title(\"price finding\")\n",
        "        xcoords = np.arange(0,stop=self.T, step=self.m)\n",
        "        for xc in xcoords:\n",
        "            plt.axvline(x=xc)\n",
        "        plt.grid()\n",
        "        plt.ylim(0, 2.5)\n",
        "        plt.show()"
      ],
      "execution_count": 198,
      "outputs": []
    },
    {
      "cell_type": "code",
      "metadata": {
        "id": "LC-ArTG-W8JQ",
        "colab_type": "code",
        "colab": {}
      },
      "source": [
        "p=PriceFinding(test_data=test_conv_complete, params=Para)"
      ],
      "execution_count": 199,
      "outputs": []
    },
    {
      "cell_type": "code",
      "metadata": {
        "id": "Z-rPaMlSYDFa",
        "colab_type": "code",
        "colab": {
          "base_uri": "https://localhost:8080/",
          "height": 499
        },
        "outputId": "5dd4504f-1cf5-498b-d82c-b6248d460840"
      },
      "source": [
        "p.make_plt(real_price=False)"
      ],
      "execution_count": 200,
      "outputs": [
        {
          "output_type": "display_data",
          "data": {
            "image/png": "[encoded data removed]",
            "text/plain": [
              "<Figure size 864x576 with 1 Axes>"
            ]
          },
          "metadata": {
            "tags": [],
            "needs_background": "light"
          }
        }
      ]
    },
    {
      "cell_type": "code",
      "metadata": {
        "id": "IcIyPfuBYK4F",
        "colab_type": "code",
        "colab": {
          "base_uri": "https://localhost:8080/",
          "height": 499
        },
        "outputId": "57a0a45d-428a-469e-9735-68e4c9d27a6f"
      },
      "source": [
        "p.make_plt(real_price=True)"
      ],
      "execution_count": 201,
      "outputs": [
        {
          "output_type": "display_data",
          "data": {
            "image/png": "[encoded data removed]",
            "text/plain": [
              "<Figure size 864x576 with 1 Axes>"
            ]
          },
          "metadata": {
            "tags": [],
            "needs_background": "light"
          }
        }
      ]
    },
    {
      "cell_type": "markdown",
      "metadata": {
        "id": "I_2aec3Lhrsq",
        "colab_type": "text"
      },
      "source": [
        "When we take the functional log-lin form as a suitable parametric function for the damend-function, we see that the real avocado price is a bit to low. However, this simulation is in a way flawed, because we rarely see these high prices in action. In production, we would set the price to be the one given as optimal from our best candidate and than observe the price demand tuple. Here, we take the next real price and observed demand and then update the best candidate function."
      ]
    },
    {
      "cell_type": "code",
      "metadata": {
        "id": "G25sV1MCjbNV",
        "colab_type": "code",
        "colab": {}
      },
      "source": [
        ""
      ],
      "execution_count": null,
      "outputs": []
    }
  ]
}